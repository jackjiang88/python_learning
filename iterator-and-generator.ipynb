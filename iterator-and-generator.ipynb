{
 "cells": [
  {
   "cell_type": "markdown",
   "metadata": {},
   "source": [
    "容器(container)\n",
    "\n",
    "容器是一种把多个元素组织在一起的数据结构，容器中的元素可以逐个地迭代获取，可以用in, not in关键字判断元素是否包含在容器中。通常这类数据结构把所有的元素存储在内存中（也有一些特例，并不是所有的元素都放在内存，比如迭代器和生成器对象）在Python中，常见的容器对象有：\n",
    "\n",
    "list, deque, ....\n",
    "set, frozensets, ....\n",
    "dict, defaultdict, OrderedDict, Counter, ....\n",
    "tuple, namedtuple, …\n",
    "str\n",
    "可迭代对象：实现了__iter__方法，可以返回一个迭代器的对象\n",
    "\n",
    "迭代器：实现了__iter__方法和__next__方法\n",
    "\n",
    "生成器：一种特殊的迭代器\n",
    "\n"
   ]
  },
  {
   "cell_type": "code",
   "execution_count": 21,
   "metadata": {},
   "outputs": [
    {
     "name": "stdout",
     "output_type": "stream",
     "text": [
      "1\n",
      "2\n",
      "3\n",
      "5\n",
      "8\n",
      "13\n",
      "21\n",
      "34\n",
      "55\n",
      "89\n"
     ]
    }
   ],
   "source": [
    "class fib(object):\n",
    "    def __init__(self,n):\n",
    "        self.prev = 0\n",
    "        self.curr = 1\n",
    "        self.count = n\n",
    "    def __iter__(self):\n",
    "        return self\n",
    "    \n",
    "    def __next__(self):\n",
    "        while self.count:\n",
    "            self.prev,self.curr=self.curr,self.curr+self.prev\n",
    "            self.count-=1\n",
    "            return self.curr\n",
    "\n",
    "myfib = fib(10)\n",
    "for _ in range(10):\n",
    "    print(next(myfib))\n",
    "    "
   ]
  },
  {
   "cell_type": "code",
   "execution_count": 19,
   "metadata": {},
   "outputs": [
    {
     "name": "stdout",
     "output_type": "stream",
     "text": [
      "1\n",
      "1\n",
      "2\n",
      "3\n",
      "5\n",
      "8\n",
      "13\n",
      "21\n",
      "34\n",
      "55\n"
     ]
    }
   ],
   "source": [
    "def fab(n):\n",
    "    prev,curr = 0,1\n",
    "    while n:\n",
    "        yield curr\n",
    "        prev,curr = curr,prev+curr\n",
    "        \n",
    "myfab = fab(10)\n",
    "for _ in range(10):\n",
    "    print(next(myfab))"
   ]
  },
  {
   "cell_type": "code",
   "execution_count": 13,
   "metadata": {},
   "outputs": [
    {
     "data": {
      "text/plain": [
       "1"
      ]
     },
     "execution_count": 13,
     "metadata": {},
     "output_type": "execute_result"
    }
   ],
   "source": [
    "next(myfib)"
   ]
  },
  {
   "cell_type": "code",
   "execution_count": null,
   "metadata": {},
   "outputs": [],
   "source": []
  }
 ],
 "metadata": {
  "kernelspec": {
   "display_name": "Python 3",
   "language": "python",
   "name": "python3"
  },
  "language_info": {
   "codemirror_mode": {
    "name": "ipython",
    "version": 3
   },
   "file_extension": ".py",
   "mimetype": "text/x-python",
   "name": "python",
   "nbconvert_exporter": "python",
   "pygments_lexer": "ipython3",
   "version": "3.6.4"
  }
 },
 "nbformat": 4,
 "nbformat_minor": 2
}
