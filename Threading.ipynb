{
 "cells": [
  {
   "cell_type": "markdown",
   "metadata": {},
   "source": [
    "# python 多线程专题\n",
    "1、线程创建"
   ]
  },
  {
   "cell_type": "code",
   "execution_count": 11,
   "metadata": {},
   "outputs": [
    {
     "name": "stdout",
     "output_type": "stream",
     "text": [
      "The MainThread is starting\n",
      "\n",
      "The Thread-51  starting\n",
      "\n",
      "The Thread-52  starting\n",
      "The Thread-53  starting\n",
      "\n",
      "\n",
      "The Thread-54  starting\n",
      "The Thread-55  starting\n",
      "\n",
      "The MainThread is ended\n",
      "\n",
      "\n",
      "The Thread-51 is end\n",
      "\n",
      "The Thread-53 is end\n",
      "\n",
      "The Thread-52 is end\n",
      "\n",
      "The Thread-55 is end\n",
      "The Thread-54 is end\n",
      "\n",
      "\n"
     ]
    }
   ],
   "source": [
    "'''\n",
    "threading.current_thread()表示当前线程，可以用name或getName()获取线程名称\n",
    "'''\n",
    "import threading\n",
    "import time\n",
    "def fun():\n",
    "    print('The {0}  starting\\n'.format(threading.current_thread().name))\n",
    "    time.sleep(1)\n",
    "    print('The {0} is end\\n'.format(threading.current_thread().getName()))\n",
    "if __name__=='__main__':\n",
    "    print('The {0} is starting\\n'.format(threading.current_thread().name))\n",
    "    for _ in range(5):\n",
    "          th = threading.Thread(target = fun)\n",
    "          th.start()\n",
    "    print('The {0} is ended\\n'.format(threading.current_thread().name))"
   ]
  },
  {
   "cell_type": "code",
   "execution_count": 1,
   "metadata": {},
   "outputs": [
    {
     "name": "stdout",
     "output_type": "stream",
     "text": [
      "MainThread is running\n",
      "Thread-6 is running\n"
     ]
    }
   ],
   "source": [
    "'''\n",
    "线程创建，通过类的方式\n",
    "__author__ = jyb\n",
    "'''\n",
    "import threading\n",
    "\n",
    "class threadTest(threading.Thread):\n",
    "    def __init__(self):\n",
    "        threading.Thread.__init__(self)\n",
    "    def run(self):\n",
    "        print('%s is running'%threading.current_thread().name)\n",
    "th1 = threadTest()\n",
    "print('%s is running'%threading.current_thread().name)\n",
    "th1.start()\n"
   ]
  },
  {
   "cell_type": "code",
   "execution_count": 18,
   "metadata": {},
   "outputs": [
    {
     "name": "stdout",
     "output_type": "stream",
     "text": [
      "111\n",
      "1\n",
      "\n",
      "\n",
      "1\n",
      "1.1200637817382812\n"
     ]
    }
   ],
   "source": [
    "\n",
    "\"\"\"\n",
    "join()函数的用法\n",
    "\"\"\"\n",
    "from threading import Thread\n",
    "import time \n",
    "t = time.time()\n",
    "\n",
    "def myfun():\n",
    "    time.sleep(1)\n",
    "    print(1)\n",
    "if __name__ =='__main__':\n",
    "    th_list = [] \n",
    "    for _ in range(5):\n",
    "        th = threading.Thread(target = myfun)\n",
    "        th.start()\n",
    "        th_list.append(th)\n",
    "    for threadInstance in th_list:\n",
    "        threadInstance.join()\n",
    "    print(time.time()-t)"
   ]
  },
  {
   "cell_type": "markdown",
   "metadata": {},
   "source": [
    "# 2、 线程锁机制\n",
    "## LOCK锁，RLOCK锁"
   ]
  },
  {
   "cell_type": "code",
   "execution_count": 3,
   "metadata": {},
   "outputs": [
    {
     "name": "stdout",
     "output_type": "stream",
     "text": [
      "100\n"
     ]
    }
   ],
   "source": [
    "\"\"\"\n",
    "Locak\n",
    "\"\"\"\n",
    "import time\n",
    "import threading\n",
    "threadlock = threading.Lock()\n",
    "a =100 \n",
    "def consumer():\n",
    "    threadlock.acquire()\n",
    "    global a \n",
    "    a = a-1   \n",
    "    threadlock.release()\n",
    "def producer():\n",
    "    threadlock.acquire()\n",
    "    global a\n",
    "    a = a+1\n",
    "    threadlock.release\n",
    "       \n",
    "th1 = threading.Thread(target=consumer)\n",
    "th1.start()\n",
    "th2 = threading.Thread(target=producer)\n",
    "th2.start()\n",
    "print(a)\n"
   ]
  },
  {
   "cell_type": "code",
   "execution_count": 13,
   "metadata": {},
   "outputs": [
    {
     "name": "stdout",
     "output_type": "stream",
     "text": [
      "threading-1 is apply for a lock firstly\n",
      "\n",
      "threading-1 get a lock successfully \n",
      "\n",
      "threading-2 is apply for a lock firstly\n",
      "threading-3 is apply for a lock firstly\n",
      "\n",
      "\n",
      "threading-1 is apply for a lock again\n",
      "\n",
      "threading-1 get a lock again successfully\n",
      "\n",
      "threading-1 release a lock firstly\n",
      "\n",
      "threading-1 release a lock again\n",
      "\n",
      "threading-3 get a lock successfully \n",
      "\n",
      "threading-3 is apply for a lock again\n",
      "\n",
      "threading-3 get a lock again successfully\n",
      "\n",
      "threading-3 release a lock firstly\n",
      "\n",
      "threading-3 release a lock again\n",
      "\n",
      "threading-2 get a lock successfully \n",
      "\n",
      "threading-2 is apply for a lock again\n",
      "\n",
      "threading-2 get a lock again successfully\n",
      "\n",
      "threading-2 release a lock firstly\n",
      "\n",
      "threading-2 release a lock again\n",
      "\n"
     ]
    }
   ],
   "source": [
    "'''\n",
    "RLOCK 锁，可重入锁，同一线程可以锁多次，锁的次数和释放次数要对应\n",
    "\n",
    "'''\n",
    "import threading\n",
    "rlock = threading.RLock()\n",
    "def myfun():\n",
    "    print('%s is apply for a lock firstly\\n'%threading.current_thread().name)\n",
    "    if(rlock.acquire()):\n",
    "        print('%s get a lock successfully \\n'%threading.current_thread().name)\n",
    "    time.sleep(1)\n",
    "    \n",
    "    print('%s is apply for a lock again\\n'%threading.current_thread().name)\n",
    "    if(rlock.acquire()):\n",
    "        print('%s get a lock again successfully\\n'%threading.current_thread().name)\n",
    "    \n",
    "    time.sleep(1)\n",
    "    print('%s release a lock firstly\\n'%threading.current_thread().name)\n",
    "    rlock.release()\n",
    "    \n",
    "    time.sleep(1)\n",
    "    print('%s release a lock again\\n'%threading.current_thread().name)  \n",
    "    rlock.release()\n",
    "    \n",
    "    \n",
    "th1 = threading.Thread(target =myfun,name='threading-1')\n",
    "th2 = threading.Thread(target = myfun,name='threading-2')\n",
    "th3 = threading.Thread(target=myfun,name='threading-3')\n",
    "\n",
    "th1.start()\n",
    "th2.start()\n",
    "th3.start()"
   ]
  },
  {
   "cell_type": "markdown",
   "metadata": {},
   "source": [
    "即使存在多核的时候，python多进程是真正的并行，而多线程是伪并行，实际上他只是交替执行。\n",
    "\n",
    "是什么导致多线程，只能交替执行呢？是一个叫GIL（Global Interpreter Lock，全局解释器锁）的东西。\n",
    "\n",
    "什么是GIL呢？\n",
    "\n",
    " 每个python进程有一个GIL锁，任何Python线程执行前，必须先获得GIL锁，然后，每执行100条字节码，解释器就自动释放GIL锁，让别的线程有机会执行。这个GIL全局锁实际上把所有线程的执行代码都给上了锁，所以，多线程在Python中只能交替执行，即使100个线程跑在100核CPU上，也只能用到1个核。"
   ]
  },
  {
   "cell_type": "markdown",
   "metadata": {},
   "source": [
    "# 3、线程通信机制：\n",
    "## condition\n",
    "## event\n",
    "## queue"
   ]
  },
  {
   "cell_type": "code",
   "execution_count": 18,
   "metadata": {},
   "outputs": [
    {
     "data": {
      "text/plain": [
       "['__class__',\n",
       " '__delattr__',\n",
       " '__dir__',\n",
       " '__doc__',\n",
       " '__eq__',\n",
       " '__format__',\n",
       " '__ge__',\n",
       " '__getattribute__',\n",
       " '__gt__',\n",
       " '__hash__',\n",
       " '__init__',\n",
       " '__init_subclass__',\n",
       " '__iter__',\n",
       " '__le__',\n",
       " '__length_hint__',\n",
       " '__lt__',\n",
       " '__ne__',\n",
       " '__new__',\n",
       " '__next__',\n",
       " '__reduce__',\n",
       " '__reduce_ex__',\n",
       " '__repr__',\n",
       " '__setattr__',\n",
       " '__setstate__',\n",
       " '__sizeof__',\n",
       " '__str__',\n",
       " '__subclasshook__']"
      ]
     },
     "execution_count": 18,
     "metadata": {},
     "output_type": "execute_result"
    }
   ],
   "source": [
    "a = []\n",
    "dir(iter(a))\n"
   ]
  },
  {
   "cell_type": "code",
   "execution_count": 16,
   "metadata": {},
   "outputs": [
    {
     "data": {
      "text/plain": [
       "['__class__',\n",
       " '__del__',\n",
       " '__delattr__',\n",
       " '__dir__',\n",
       " '__doc__',\n",
       " '__eq__',\n",
       " '__format__',\n",
       " '__ge__',\n",
       " '__getattribute__',\n",
       " '__gt__',\n",
       " '__hash__',\n",
       " '__init__',\n",
       " '__init_subclass__',\n",
       " '__iter__',\n",
       " '__le__',\n",
       " '__lt__',\n",
       " '__name__',\n",
       " '__ne__',\n",
       " '__new__',\n",
       " '__next__',\n",
       " '__qualname__',\n",
       " '__reduce__',\n",
       " '__reduce_ex__',\n",
       " '__repr__',\n",
       " '__setattr__',\n",
       " '__sizeof__',\n",
       " '__str__',\n",
       " '__subclasshook__',\n",
       " 'close',\n",
       " 'gi_code',\n",
       " 'gi_frame',\n",
       " 'gi_running',\n",
       " 'gi_yieldfrom',\n",
       " 'send',\n",
       " 'throw']"
      ]
     },
     "execution_count": 16,
     "metadata": {},
     "output_type": "execute_result"
    }
   ],
   "source": [
    "b =(x for x in range(10))\n",
    "dir(b)"
   ]
  },
  {
   "cell_type": "code",
   "execution_count": null,
   "metadata": {},
   "outputs": [],
   "source": []
  }
 ],
 "metadata": {
  "kernelspec": {
   "display_name": "Python 3",
   "language": "python",
   "name": "python3"
  },
  "language_info": {
   "codemirror_mode": {
    "name": "ipython",
    "version": 3
   },
   "file_extension": ".py",
   "mimetype": "text/x-python",
   "name": "python",
   "nbconvert_exporter": "python",
   "pygments_lexer": "ipython3",
   "version": "3.6.4"
  }
 },
 "nbformat": 4,
 "nbformat_minor": 2
}
