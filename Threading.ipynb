{
 "cells": [
  {
   "cell_type": "markdown",
   "metadata": {},
   "source": [
    "# python 多线程专题"
   ]
  },
  {
   "cell_type": "code",
   "execution_count": 11,
   "metadata": {},
   "outputs": [
    {
     "name": "stdout",
     "output_type": "stream",
     "text": [
      "The MainThread is starting\n",
      "\n",
      "The Thread-51  starting\n",
      "\n",
      "The Thread-52  starting\n",
      "The Thread-53  starting\n",
      "\n",
      "\n",
      "The Thread-54  starting\n",
      "The Thread-55  starting\n",
      "\n",
      "The MainThread is ended\n",
      "\n",
      "\n",
      "The Thread-51 is end\n",
      "\n",
      "The Thread-53 is end\n",
      "\n",
      "The Thread-52 is end\n",
      "\n",
      "The Thread-55 is end\n",
      "The Thread-54 is end\n",
      "\n",
      "\n"
     ]
    }
   ],
   "source": [
    "'''\n",
    "threading.current_thread()表示当前线程，可以用name或getName()获取线程名称\n",
    "'''\n",
    "import threading\n",
    "import time\n",
    "def fun():\n",
    "    print('The {0}  starting\\n'.format(threading.current_thread().name))\n",
    "    time.sleep(1)\n",
    "    print('The {0} is end\\n'.format(threading.current_thread().getName()))\n",
    "if __name__=='__main__':\n",
    "    print('The {0} is starting\\n'.format(threading.current_thread().name))\n",
    "    for _ in range(5):\n",
    "          th = threading.Thread(target = fun)\n",
    "          th.start()\n",
    "    print('The {0} is ended\\n'.format(threading.current_thread().name))"
   ]
  },
  {
   "cell_type": "code",
   "execution_count": 18,
   "metadata": {},
   "outputs": [
    {
     "name": "stdout",
     "output_type": "stream",
     "text": [
      "111\n",
      "1\n",
      "\n",
      "\n",
      "1\n",
      "1.1200637817382812\n"
     ]
    }
   ],
   "source": [
    "\"\"\"\n",
    "join()函数的用法\n",
    "\"\"\"\n",
    "from threading import Thread\n",
    "import time \n",
    "t = time.time()\n",
    "\n",
    "def myfun():\n",
    "    time.sleep(1)\n",
    "    print(1)\n",
    "if __name__ =='__main__':\n",
    "    th_list = [] \n",
    "    for _ in range(5):\n",
    "        th = threading.Thread(target = myfun)\n",
    "        th.start()\n",
    "        th_list.append(th)\n",
    "    for threadInstance in th_list:\n",
    "        threadInstance.join()\n",
    "    print(time.time()-t)"
   ]
  },
  {
   "cell_type": "code",
   "execution_count": 31,
   "metadata": {},
   "outputs": [
    {
     "name": "stdout",
     "output_type": "stream",
     "text": [
      "100\n",
      "100\n"
     ]
    }
   ],
   "source": [
    "import time\n",
    "import threading\n",
    "threadlock = threading.Lock()\n",
    "a =100 \n",
    "def consumer():\n",
    "#    threadlock.acquire()\n",
    "    global a \n",
    "    a = a-1   \n",
    "#    threadlock.release()\n",
    "def producer():\n",
    "#    threadlock.acquire()\n",
    "      global a\n",
    "      a = a+1\n",
    "#    threadlock.release()\n",
    "print(a)\n",
    "for _ in range(1000):\n",
    "       \n",
    "    th1 = threading.Thread(target=consumer)\n",
    "    th1.start()\n",
    "    th2 = threading.Thread(target=producer)\n",
    "    th2.start()\n",
    "time.sleep(20)\n",
    "print(a)"
   ]
  },
  {
   "cell_type": "code",
   "execution_count": null,
   "metadata": {},
   "outputs": [],
   "source": []
  }
 ],
 "metadata": {
  "kernelspec": {
   "display_name": "Python 3",
   "language": "python",
   "name": "python3"
  },
  "language_info": {
   "codemirror_mode": {
    "name": "ipython",
    "version": 3
   },
   "file_extension": ".py",
   "mimetype": "text/x-python",
   "name": "python",
   "nbconvert_exporter": "python",
   "pygments_lexer": "ipython3",
   "version": "3.6.4"
  }
 },
 "nbformat": 4,
 "nbformat_minor": 2
}
